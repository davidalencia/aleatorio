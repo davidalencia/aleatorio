{
 "cells": [
  {
   "cell_type": "code",
   "execution_count": 1,
   "metadata": {},
   "outputs": [],
   "source": [
    "%matplotlib notebook\n",
    "import matplotlib.pyplot as plt\n",
    "import math\n",
    "from itertools import combinations\n",
    "from ipywidgets import *"
   ]
  },
  {
   "cell_type": "code",
   "execution_count": 2,
   "metadata": {},
   "outputs": [],
   "source": [
    "def combinaciones(n, k):\n",
    "    \"\"\"Calcula las combinaciones de n en k\n",
    "    \"\"\"\n",
    "    return math.factorial(n)/(math.factorial(k)*math.factorial(n-k))"
   ]
  },
  {
   "cell_type": "code",
   "execution_count": 3,
   "metadata": {},
   "outputs": [],
   "source": [
    "def valorInverso(uniforme, densidad):\n",
    "    \"\"\"Calcula un valor inverso genereralizada. \n",
    "    Evaluando en una variable aleatoria con distribución uniforme (0,1)\n",
    "    Parametros:\n",
    "        uniforme -- Numero dentro de una distribución uniforme\n",
    "        densidad -- función de densidad\n",
    "        inicio -- Número que es el primer valor del soporte Ej. 0 \n",
    "    \"\"\"\n",
    "    pi = 0\n",
    "    i = 0\n",
    "    while True:\n",
    "        p1 = pi + densidad(i)\n",
    "        if (pi <= uniforme and uniforme < p1):\n",
    "            return i\n",
    "        pi = p1\n",
    "        i = i+1"
   ]
  },
  {
   "cell_type": "code",
   "execution_count": 4,
   "metadata": {},
   "outputs": [],
   "source": [
    "def uniforme(n=100, seed=2):\n",
    "    \"\"\"Regresa un arreglo de tamaño, con distribución uniforme(0,1)\n",
    "    Parametros:\n",
    "        n -- tamaño del arreglo\n",
    "        seed -- semilla inicial, su valor por defecto es 2\n",
    "    \"\"\"\n",
    "    a = 7**5\n",
    "    m = 2**31 -1\n",
    "    xi = list()\n",
    "    ui = list()\n",
    "    xi.append(seed)\n",
    "    for i in range(0,n):\n",
    "        xi.append((a*xi[i])%m)\n",
    "        ui.append(xi[i] / m)\n",
    "    return ui    "
   ]
  },
  {
   "cell_type": "code",
   "execution_count": 5,
   "metadata": {},
   "outputs": [],
   "source": [
    "def funcion_aleatoria(k, f, es_continua):\n",
    "    \"\"\"Regresa un arreglo de tamaño k. Donde f es una función de densidad\n",
    "    en caso de las discretas y la función inversa en caso de ser continua.\n",
    "    Parametros: \n",
    "        k -- tamaño del arreglo\n",
    "        f -- la función \n",
    "        es_continua -- si la variable aleatoría es continua o no.\n",
    "    \"\"\"\n",
    "    u = uniforme(k)\n",
    "    y = list()\n",
    "    for ui in u:\n",
    "        if(es_continua):\n",
    "            y.append(f(ui))\n",
    "        else:\n",
    "            y.append(valorInverso(ui, f))\n",
    "    return y"
   ]
  },
  {
   "cell_type": "code",
   "execution_count": 6,
   "metadata": {},
   "outputs": [],
   "source": [
    "def binomial(n,p, k=100):\n",
    "    'Regresa un arreglo. Con k números aleatorios y distribución binomial(n, p)'\n",
    "    f = lambda x : combinaciones(n,x)*p**x*(1-p)**(n-x)\n",
    "    return funcion_aleatoria(k, f, False)"
   ]
  },
  {
   "cell_type": "code",
   "execution_count": 7,
   "metadata": {},
   "outputs": [],
   "source": [
    "def binomial_negativa(r, p, k=100):\n",
    "    'Regresa un arreglo. Con k números aleatorios y distribución binomial negativa(r, p)'\n",
    "    f = lambda k : combinaciones(r+k-1, k)*(1-p)**k*p**r\n",
    "    return funcion_aleatoria(k, f, False)"
   ]
  },
  {
   "cell_type": "code",
   "execution_count": 8,
   "metadata": {},
   "outputs": [],
   "source": [
    "def poisson(l, k=100):\n",
    "    'Regresa un arreglo. Con k números aleatorios y distribución poisson(l)'\n",
    "    f = lambda x : l**x*math.e**(-l)/math.factorial(x)\n",
    "    return funcion_aleatoria(k, f, False)"
   ]
  },
  {
   "cell_type": "code",
   "execution_count": 9,
   "metadata": {},
   "outputs": [],
   "source": [
    "def exponencial(l, k=100):\n",
    "    'Regresa un arreglo. Con k números aleatorios y distribución exponencial(l)'\n",
    "    f = lambda x : math.log(x)/(-l)\n",
    "    return funcion_aleatoria(k, f, True)"
   ]
  },
  {
   "cell_type": "code",
   "execution_count": 10,
   "metadata": {},
   "outputs": [],
   "source": [
    "def uniforme_continua(a,b, k=100):\n",
    "    'Regresa un arreglo. Con k números aleatorios y distribución uniforme continua(a,b)'\n",
    "    f = lambda x : x*(b-a)+a\n",
    "    return funcion_aleatoria(k, f, True)"
   ]
  },
  {
   "cell_type": "code",
   "execution_count": 11,
   "metadata": {},
   "outputs": [],
   "source": [
    "def grafica(ys):\n",
    "    'Ordena y grafica un arreglo de ys'\n",
    "    ys.sort()\n",
    "    plt.plot(ys)\n",
    "    plt.show()"
   ]
  },
  {
   "cell_type": "code",
   "execution_count": 12,
   "metadata": {},
   "outputs": [],
   "source": [
    "def E(ys):\n",
    "    'Regresa la esperanza de la lista dada'\n",
    "    p = 0\n",
    "    for y in ys:\n",
    "        p += y\n",
    "    return p/len(ys)"
   ]
  },
  {
   "cell_type": "code",
   "execution_count": 13,
   "metadata": {},
   "outputs": [],
   "source": [
    "def E_uniforme(a, b):\n",
    "    'Esperanza de una variable aleatoria de distribución uniforme(a,b)'\n",
    "    return (a+b)/2    "
   ]
  },
  {
   "cell_type": "code",
   "execution_count": 14,
   "metadata": {},
   "outputs": [],
   "source": [
    "def E_binomial(n, p):\n",
    "    'Esperanza de una variable aleatoria de distribución binomial(n,p)'\n",
    "    return n*p"
   ]
  },
  {
   "cell_type": "code",
   "execution_count": 15,
   "metadata": {},
   "outputs": [],
   "source": [
    "def E_binomial_negativa(r, p):\n",
    "    'Esperanza de una variable aleatoria de distribución binomial negativa(r,p)'\n",
    "    return r*(1-p)/p"
   ]
  },
  {
   "cell_type": "code",
   "execution_count": 16,
   "metadata": {},
   "outputs": [],
   "source": [
    "def E_poisson(l):\n",
    "    'Esperanza de una variable aleatoria de distribución poisson(l)'\n",
    "    return l"
   ]
  },
  {
   "cell_type": "code",
   "execution_count": 17,
   "metadata": {},
   "outputs": [],
   "source": [
    "def E_exponencial(l):\n",
    "    'Esperanza de una variable aleatoria de distribución exponencial(l)'\n",
    "    return 1/(l**2)"
   ]
  },
  {
   "cell_type": "code",
   "execution_count": 18,
   "metadata": {},
   "outputs": [],
   "source": [
    "def E_uniforme_continua(a,b):\n",
    "    'Esperanza de una variable aleatoria de distribución uniforme continua(a,b)'\n",
    "    return (a+b)/2"
   ]
  },
  {
   "cell_type": "code",
   "execution_count": 22,
   "metadata": {},
   "outputs": [
    {
     "data": {
      "application/vnd.jupyter.widget-view+json": {
       "model_id": "dbced39638b64d868d84842dd7840546",
       "version_major": 2,
       "version_minor": 0
      },
      "text/plain": [
       "interactive(children=(IntSlider(value=50, description='n'), FloatSlider(value=0.5, description='p', max=1.0), …"
      ]
     },
     "metadata": {},
     "output_type": "display_data"
    },
    {
     "data": {
      "text/plain": [
       "<function __main__.muestra_bin(n, p, k)>"
      ]
     },
     "execution_count": 22,
     "metadata": {},
     "output_type": "execute_result"
    }
   ],
   "source": [
    "def muestra_bin(n, p , k):\n",
    "    ys = binomial(n, p, k)\n",
    "    print(\"La esperanza es \"+str(E_binomial(n, p))+\".\")\n",
    "    print(\"La esperanza obtenida es \"+str(E(ys)))\n",
    "    ys.sort()\n",
    "    plt.plot(ys)\n",
    "    plt.show()\n",
    "    \n",
    "interact(muestra_bin, n=(0, 100), p=(0.0, 1.0), k=(0, 30))"
   ]
  },
  {
   "cell_type": "code",
   "execution_count": 20,
   "metadata": {},
   "outputs": [
    {
     "ename": "NameError",
     "evalue": "name 'f' is not defined",
     "output_type": "error",
     "traceback": [
      "\u001b[0;31m-------------------------------------------------------------------------\u001b[0m",
      "\u001b[0;31mNameError\u001b[0m                               Traceback (most recent call last)",
      "\u001b[0;32m<ipython-input-20-99644ee508c4>\u001b[0m in \u001b[0;36m<module>\u001b[0;34m\u001b[0m\n\u001b[1;32m      1\u001b[0m \u001b[0;32mdef\u001b[0m \u001b[0mmuestra\u001b[0m\u001b[0;34m(\u001b[0m\u001b[0mf\u001b[0m\u001b[0;34m,\u001b[0m \u001b[0;34m**\u001b[0m\u001b[0mkargs\u001b[0m\u001b[0;34m)\u001b[0m\u001b[0;34m:\u001b[0m\u001b[0;34m\u001b[0m\u001b[0;34m\u001b[0m\u001b[0m\n\u001b[1;32m      2\u001b[0m     \u001b[0mf\u001b[0m\u001b[0;34m(\u001b[0m\u001b[0mkargs\u001b[0m\u001b[0;34m)\u001b[0m\u001b[0;34m\u001b[0m\u001b[0;34m\u001b[0m\u001b[0m\n\u001b[0;32m----> 3\u001b[0;31m \u001b[0mmuestra\u001b[0m\u001b[0;34m(\u001b[0m\u001b[0mf\u001b[0m\u001b[0;34m,\u001b[0m \u001b[0mx\u001b[0m\u001b[0;34m=\u001b[0m\u001b[0;36m10\u001b[0m\u001b[0;34m)\u001b[0m\u001b[0;34m\u001b[0m\u001b[0;34m\u001b[0m\u001b[0m\n\u001b[0m",
      "\u001b[0;31mNameError\u001b[0m: name 'f' is not defined"
     ]
    }
   ],
   "source": [
    "def muestra(f, **kargs):\n",
    "    f(kargs)\n",
    "muestra(f, x=10)"
   ]
  },
  {
   "cell_type": "code",
   "execution_count": null,
   "metadata": {},
   "outputs": [],
   "source": [
    "import matplotlib\n",
    "matplotlib.get_backend()"
   ]
  },
  {
   "cell_type": "code",
   "execution_count": null,
   "metadata": {},
   "outputs": [],
   "source": []
  }
 ],
 "metadata": {
  "kernelspec": {
   "display_name": "Python 3",
   "language": "python",
   "name": "python3"
  },
  "language_info": {
   "codemirror_mode": {
    "name": "ipython",
    "version": 3
   },
   "file_extension": ".py",
   "mimetype": "text/x-python",
   "name": "python",
   "nbconvert_exporter": "python",
   "pygments_lexer": "ipython3",
   "version": "3.7.4"
  }
 },
 "nbformat": 4,
 "nbformat_minor": 2
}
